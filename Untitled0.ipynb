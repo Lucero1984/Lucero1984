{
  "nbformat": 4,
  "nbformat_minor": 0,
  "metadata": {
    "colab": {
      "provenance": [],
      "authorship_tag": "ABX9TyM525LjYj3mJO48rS161E43",
      "include_colab_link": true
    },
    "kernelspec": {
      "name": "python3",
      "display_name": "Python 3"
    },
    "language_info": {
      "name": "python"
    }
  },
  "cells": [
    {
      "cell_type": "markdown",
      "metadata": {
        "id": "view-in-github",
        "colab_type": "text"
      },
      "source": [
        "<a href=\"https://colab.research.google.com/github/Lucero1984/Lucero1984/blob/main/Untitled0.ipynb\" target=\"_parent\"><img src=\"https://colab.research.google.com/assets/colab-badge.svg\" alt=\"Open In Colab\"/></a>"
      ]
    },
    {
      "cell_type": "code",
      "execution_count": null,
      "metadata": {
        "id": "vXhIEwm9_KMl"
      },
      "outputs": [],
      "source": [
        "class Persona:\n",
        "\n",
        "  def_init_(self, nombre, edad):\n",
        "    self.nombre=nombre\n",
        "    self.edad=edad\n",
        "\n",
        "# dir(Persona) directorio la chismosa, porque muestra como esta compuesta una funcion\n",
        "\n",
        "class Persona\n",
        "\n"
      ]
    },
    {
      "cell_type": "code",
      "source": [],
      "metadata": {
        "id": "UEeDKnve_PqG"
      },
      "execution_count": null,
      "outputs": []
    }
  ]
}